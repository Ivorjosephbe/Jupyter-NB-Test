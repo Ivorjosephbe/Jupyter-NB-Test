{
 "cells": [
  {
   "cell_type": "markdown",
   "id": "c8091bfe-baf1-4fb7-b1b7-1ae5735de154",
   "metadata": {},
   "source": [
    "# My Jupyter Notebook on IBM Watson Studio"
   ]
  },
  {
   "cell_type": "markdown",
   "id": "45a9f08c-a058-46fe-a4ab-a912764954fb",
   "metadata": {},
   "source": [
    "**Nehaal Patel**"
   ]
  },
  {
   "cell_type": "markdown",
   "id": "0e900cba-97ea-4220-9564-cea65c19e3ba",
   "metadata": {},
   "source": [
    "Data Analyst"
   ]
  },
  {
   "cell_type": "markdown",
   "id": "3e8a88d6-744e-428a-99cb-a5fea2e794d9",
   "metadata": {},
   "source": [
    "*I am interested in data science because, I need to advance in my Career*"
   ]
  },
  {
   "cell_type": "markdown",
   "id": "efa4eb6f-db80-49b3-ac40-4f42d32fc257",
   "metadata": {},
   "source": [
    "### Simple Addition"
   ]
  },
  {
   "cell_type": "code",
   "execution_count": 2,
   "id": "e7b0a314-e132-4a19-863c-edf5a9dc8c3a",
   "metadata": {},
   "outputs": [
    {
     "data": {
      "text/plain": [
       "15"
      ]
     },
     "execution_count": 2,
     "metadata": {},
     "output_type": "execute_result"
    }
   ],
   "source": [
    "7+8"
   ]
  },
  {
   "cell_type": "markdown",
   "id": "dd852df0-2eb9-4131-a901-1e15c94d1294",
   "metadata": {},
   "source": [
    "***I Am Ivor.***   \n",
    "* I love DS\n",
    "* I am an engineer"
   ]
  },
  {
   "cell_type": "code",
   "execution_count": null,
   "id": "6e815751-2b6e-447e-b7a9-221197e094c4",
   "metadata": {},
   "outputs": [],
   "source": []
  }
 ],
 "metadata": {
  "kernelspec": {
   "display_name": "Python",
   "language": "python",
   "name": "conda-env-python-py"
  },
  "language_info": {
   "codemirror_mode": {
    "name": "ipython",
    "version": 3
   },
   "file_extension": ".py",
   "mimetype": "text/x-python",
   "name": "python",
   "nbconvert_exporter": "python",
   "pygments_lexer": "ipython3",
   "version": "3.7.12"
  }
 },
 "nbformat": 4,
 "nbformat_minor": 5
}
